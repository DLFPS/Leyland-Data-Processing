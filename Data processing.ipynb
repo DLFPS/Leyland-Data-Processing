{
 "cells": [
  {
   "cell_type": "code",
   "execution_count": 1,
   "metadata": {},
   "outputs": [],
   "source": [
    "import pandas as pd\n",
    "import os\n",
    "from datetime import datetime, time"
   ]
  },
  {
   "cell_type": "code",
   "execution_count": 2,
   "metadata": {},
   "outputs": [
    {
     "name": "stdout",
     "output_type": "stream",
     "text": [
      "manual data\\WR Leyland RDC (DB 1-12 Sitewide Trailer Hookup Points_DB 1-12 Sitewide Trailer Hookup Points) 2023-11-01_2023-11-06.csv\n",
      "manual data\\WR Leyland RDC (Trailer Hook Up Points BusBar East_Trailer Hook Up Points BusBar East) 2023-11-01_2023-11-06.csv\n",
      "manual data\\WR Leyland RDC (Trailer Hook Up Points BusBar West_Trailer Hook Up Points BusBar West) 2023-11-01_2023-11-06.csv\n"
     ]
    }
   ],
   "source": [
    "import os\n",
    "\n",
    "def list_files_in_folder(folder_path):\n",
    "    file_paths = []\n",
    "    \n",
    "    # Check if the folder exists\n",
    "    if os.path.exists(folder_path):\n",
    "        # Iterate through all files in the folder\n",
    "        for filename in os.listdir(folder_path):\n",
    "            file_path = os.path.join(folder_path, filename)\n",
    "            \n",
    "            # Check if the path is a file (not a directory)\n",
    "            if os.path.isfile(file_path):\n",
    "                file_paths.append(file_path)\n",
    "    \n",
    "    return file_paths\n",
    "\n",
    "folder_path = 'manual data'  # Replace with the actual folder path\n",
    "files_path = list_files_in_folder(folder_path)\n",
    "\n",
    "# Print the list of file paths\n",
    "for file_path in files_path:\n",
    "    print(file_path)\n",
    "    \n"
   ]
  },
  {
   "cell_type": "code",
   "execution_count": 3,
   "metadata": {},
   "outputs": [],
   "source": [
    "import pandas as pd\n",
    "\n",
    "def update_and_save_dataframe(file_path, dfs_consumption, dfs_detail):\n",
    "    # Read CSV into a DataFrame\n",
    "    df = pd.read_csv(file_path)\n",
    "    \n",
    "    # Convert DateTime to datetime format with day first\n",
    "    df['DateTime'] = pd.to_datetime(df['DateTime'], dayfirst=True)\n",
    "    \n",
    "    # Set DateTime as the index\n",
    "    df.set_index('DateTime', inplace=True)\n",
    "    \n",
    "    # Ensure that there is an entry for 23:59 on the last day\n",
    "    last_date = df.index.date[-1]\n",
    "    end_of_day = pd.Timestamp.combine(last_date, time(23, 59))\n",
    "    if end_of_day not in df.index:\n",
    "        # If there's no data at all for the last day, create a row with 0 consumption\n",
    "        if not (df.index.date == last_date).any():\n",
    "            df.loc[end_of_day] = [0 for _ in range(len(df.columns))]  # or appropriate default values\n",
    "        else:\n",
    "            df.loc[end_of_day] = df.loc[df.index.date == last_date].iloc[-1]\n",
    "        df.sort_index(inplace=True) # Sort the index after adding the new row\n",
    "    \n",
    "    # Resample to 5 minute intervals and interpolate the kWh values\n",
    "    df_resampled = df.resample('5T').ffill()\n",
    "    \n",
    "    # Divide the kWh values by 6 to distribute them across the 5-minute intervals\n",
    "    df_resampled[' kWh'] /= 6\n",
    "    \n",
    "    # Rename the DateTime index back to a column\n",
    "    df_resampled.reset_index(inplace=True)\n",
    "    \n",
    "    # Convert DateTime to the desired format with added seconds\n",
    "    df_resampled['DateTime'] = df_resampled['DateTime'].dt.strftime('%Y-%m-%d %H:%M:%S')\n",
    "    \n",
    "    # Add two additional columns: date and time\n",
    "    df_resampled['date'] = df_resampled['DateTime'].str.split(\" \").str[0]\n",
    "    df_resampled['time'] = df_resampled['DateTime'].str.split(\" \").str[1]\n",
    "    \n",
    "    # Rename columns\n",
    "    df_resampled.columns = ['date_time', 'meter_desc', 'consumption', 'date', 'time']\n",
    "    \n",
    "    # Map meter_desc to meter_id\n",
    "    meter_id_mapping = {\n",
    "        \"DB 1-12 Sitewide Trailer Hookup Points_DB 1-12 Sitewide Trailer Hookup Points\": '00001',\n",
    "        \"Trailer Hook Up Points BusBar East_Trailer Hook Up Points BusBar East\": '00002',\n",
    "        \"Trailer Hook Up Points BusBar West_Trailer Hook Up Points BusBar West\": '00003'\n",
    "    }\n",
    "    df_resampled['meter_id'] = df_resampled['meter_desc'].map(meter_id_mapping)\n",
    "    \n",
    "    # Add a new column 'Site' with a value of 'Leyland' for every row\n",
    "    df_resampled['Site'] = 'Leyland'\n",
    "    \n",
    "    # Map meter_desc to site_id\n",
    "    site_id_mapping = {\n",
    "        \"DB 1-12 Sitewide Trailer Hookup Points_DB 1-12 Sitewide Trailer Hookup Points\": '00001',\n",
    "        \"Trailer Hook Up Points BusBar East_Trailer Hook Up Points BusBar East\": '00002',\n",
    "        \"Trailer Hook Up Points BusBar West_Trailer Hook Up Points BusBar West\": '00003'\n",
    "    }\n",
    "    df_resampled['site_id'] = df_resampled['meter_desc'].map(site_id_mapping)\n",
    "\n",
    "    # Create t_novus_meter_consumption DataFrame\n",
    "    df_consumption = df_resampled[['consumption', 'date_time', 'meter_id']].copy()\n",
    "    dfs_consumption.append(df_consumption)\n",
    "\n",
    "    # Create t_novus_meter_consumption_detail DataFrame\n",
    "    df_detail = df_resampled[['consumption', 'date', 'date_time', 'meter_id', 'time']].copy()\n",
    "    dfs_detail.append(df_detail)\n",
    "\n",
    "\n"
   ]
  },
  {
   "cell_type": "code",
   "execution_count": 4,
   "metadata": {},
   "outputs": [
    {
     "name": "stdout",
     "output_type": "stream",
     "text": [
      "Files saved!\n"
     ]
    }
   ],
   "source": [
    "# Initialize lists to store DataFrames for each type\n",
    "dfs_consumption = []\n",
    "dfs_detail = []\n",
    "\n",
    "for each_file in files_path:\n",
    "    update_and_save_dataframe(each_file, dfs_consumption, dfs_detail)\n",
    "\n",
    "# Concatenate and save DataFrames for consumption and details\n",
    "df_consumption_final = pd.concat(dfs_consumption, ignore_index=True)\n",
    "df_detail_final = pd.concat(dfs_detail, ignore_index=True)\n",
    "df_detail_final = df_detail_final[['time', 'consumption', 'meter_id', 'date', 'date_time']]\n",
    "\n",
    "#df_consumption_final.to_csv('manual data/t_checkit_meter_consumption.csv', index=False)\n",
    "#df_detail_final.to_csv('output/t_checkit_meter_consumption_detail.csv', index=False)\n",
    "\n",
    "# Static t_novus_meter_configuration DataFrame\n",
    "data = {\n",
    "    'meter_desc': [\n",
    "        'Leyland DB 1-12 Sitewide Trailer Hookup Points',\n",
    "        'Leyland Trailer Hook Up Points BusBar East',\n",
    "        'Leyland Trailer Hook Up Points BusBar West'\n",
    "    ],\n",
    "    'meter_id': ['00001', '00002', '00003'],\n",
    "    'meter_unit_id': [3, 3, 3],\n",
    "    'org_id': ['0001', '0001', '0001'],\n",
    "    'sample_period_mins': [5, 5, 5],\n",
    "    'site_id': ['00001', '00002', '00003']\n",
    "}\n",
    "\n",
    "df_configuration = pd.DataFrame(data)\n",
    "df_configuration = df_configuration[['org_id', 'meter_id', 'sample_period_mins', 'meter_unit_id', 'meter_desc']]\n",
    "#df_configuration.to_csv('output/t_checkit_meter_configuration.csv', index=False)\n",
    "\n",
    "#print(\"Files saved!\")"
   ]
  },
  {
   "cell_type": "code",
   "execution_count": 5,
   "metadata": {},
   "outputs": [
    {
     "name": "stdout",
     "output_type": "stream",
     "text": [
      "Filtered data saved to output/t_checkit_meter_consumption_detail_2023_11.csv\n"
     ]
    }
   ],
   "source": [
    "from datetime import datetime\n",
    "import os\n",
    "\n",
    "# Define the month and year for filtering\n",
    "target_month = 11  # Replace with the desired month (e.g., May)\n",
    "target_year = 2023  # Replace with the desired year\n",
    "\n",
    "# Convert the 'date_time' column to datetime format\n",
    "df_detail_final['date_time'] = pd.to_datetime(df_detail_final['date_time'], format='%Y-%m-%d %H:%M:%S')\n",
    "\n",
    "# Filter the data based on the given month and year\n",
    "filtered_df = df_detail_final[(df_detail_final['date_time'].dt.month == target_month) & \n",
    "                              (df_detail_final['date_time'].dt.year == target_year)]\n",
    "\n",
    "# Extract the month and year for the output filename\n",
    "output_file_suffix = f'_{target_year}_{target_month:02d}'\n",
    "\n",
    "# Define the output directory path\n",
    "output_directory = 'output/'\n",
    "\n",
    "# Create the output directory if it doesn't exist\n",
    "os.makedirs(output_directory, exist_ok=True)\n",
    "\n",
    "# Define the output file path within the output directory\n",
    "output_file_path = os.path.join(output_directory, f't_checkit_meter_consumption_detail{output_file_suffix}.csv')\n",
    "\n",
    "# Save the filtered DataFrame to the output file\n",
    "filtered_df.to_csv(output_file_path, index=False)\n",
    "\n",
    "print(f\"Filtered data saved to {output_file_path}\")\n"
   ]
  },
  {
   "cell_type": "code",
   "execution_count": null,
   "metadata": {},
   "outputs": [],
   "source": []
  }
 ],
 "metadata": {
  "kernelspec": {
   "display_name": "Python 3",
   "language": "python",
   "name": "python3"
  },
  "language_info": {
   "codemirror_mode": {
    "name": "ipython",
    "version": 3
   },
   "file_extension": ".py",
   "mimetype": "text/x-python",
   "name": "python",
   "nbconvert_exporter": "python",
   "pygments_lexer": "ipython3",
   "version": "3.11.5"
  }
 },
 "nbformat": 4,
 "nbformat_minor": 2
}
